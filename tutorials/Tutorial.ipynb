{
 "cells": [
  {
   "cell_type": "markdown",
   "metadata": {
    "collapsed": true,
    "pycharm": {
     "name": "#%% md\n"
    }
   },
   "source": [
    "# CompositionDE - Compositional analysis of single-cell data\n"
   ]
  },
  {
   "cell_type": "markdown",
   "metadata": {
    "pycharm": {
     "name": "#%% md\n"
    }
   },
   "source": [
    "\n",
    "This notebook serves as a tutorial for using the *SCDCdm* package to analyze changes in cell composition data.\n",
    "\n",
    "The package is intended to be used with data coming from single-cell RNA-seq experiments, however there are no \n",
    "restrictions that prevent the use of data from other sources.\n",
    "\n",
    "The data we use in the following example comes from [*Haber et al. [2017]*](https://www.nature.com/articles/nature24489).\n",
    "It contains samples from the small intestinal epithelium of mice with different conditions.\n"
   ]
  },
  {
   "cell_type": "code",
   "execution_count": 1,
   "metadata": {
    "pycharm": {
     "is_executing": false,
     "name": "#%%\n"
    }
   },
   "outputs": [],
   "source": [
    "# Setup\n",
    "import warnings\n",
    "warnings.filterwarnings(\"ignore\")\n",
    "\n",
    "import pandas as pd\n",
    "import matplotlib.pyplot as plt\n",
    "import seaborn as sns\n",
    "import arviz as az\n",
    "\n",
    "from scdcdm.util import comp_ana as mod\n",
    "from scdcdm.util import cell_composition_data as dat\n",
    "\n"
   ]
  },
  {
   "cell_type": "markdown",
   "metadata": {},
   "source": [
    "### Data preparation"
   ]
  },
  {
   "cell_type": "code",
   "execution_count": 2,
   "metadata": {
    "pycharm": {
     "is_executing": false,
     "name": "#%%\n"
    }
   },
   "outputs": [
    {
     "name": "stdout",
     "text": [
      "            Mouse  Endocrine  Enterocyte  Enterocyte.Progenitor  Goblet  Stem  \\\n",
      "0       Control_1         36          59                    136      36   239   \n",
      "1       Control_2          5          46                     23      20    50   \n",
      "2       Control_3         45          98                    188     124   250   \n",
      "3       Control_4         26         221                    198      36   131   \n",
      "4  H.poly.Day10_1         42          71                    203     147   271   \n",
      "5  H.poly.Day10_2         40          57                    383     170   321   \n",
      "6   H.poly.Day3_1         52          75                    347      66   323   \n",
      "7   H.poly.Day3_2         65         126                    115      33    65   \n",
      "8          Salm_1         37         332                    113      59    90   \n",
      "9          Salm_2         32         373                    116      67   117   \n",
      "\n",
      "    TA  TA.Early  Tuft  \n",
      "0  125       191    18  \n",
      "1   11        40     5  \n",
      "2  155       365    33  \n",
      "3  130       196     4  \n",
      "4  109       180   146  \n",
      "5  244       256    71  \n",
      "6  263       313    51  \n",
      "7   39       129    59  \n",
      "8   47       132    10  \n",
      "9   65       168    12  \n"
     ],
     "output_type": "stream"
    }
   ],
   "source": [
    "# Load data\n",
    "\n",
    "cell_counts = pd.read_csv(\"../data/haber_counts.csv\")\n",
    "\n",
    "print(cell_counts)"
   ]
  },
  {
   "cell_type": "markdown",
   "metadata": {},
   "source": [
    "Looking at the data, we see that we have 4 control samples, and 3 conditions with 2 samples each. \n",
    "To use the models in *SCDCdm*, we first have to convert the data into an [anndata](https://github.com/theislab/anndata) object.\n",
    "This object separates our data components: Cell counts are stored in `data.X`, covariates in `data.obs`.\n",
    "\n",
    "For our first example, we want to look at how the Salmonella infection influences the cell composition.\n",
    "\n"
   ]
  },
  {
   "cell_type": "code",
   "execution_count": 3,
   "metadata": {
    "pycharm": {
     "is_executing": false
    }
   },
   "outputs": [
    {
     "name": "stderr",
     "text": [
      "Transforming to str index.\n"
     ],
     "output_type": "stream"
    },
    {
     "name": "stdout",
     "text": [
      "[[ 36.  59. 136.  36. 239. 125. 191.  18.]\n",
      " [  5.  46.  23.  20.  50.  11.  40.   5.]\n",
      " [ 45.  98. 188. 124. 250. 155. 365.  33.]\n",
      " [ 26. 221. 198.  36. 131. 130. 196.   4.]\n",
      " [ 37. 332. 113.  59.  90.  47. 132.  10.]\n",
      " [ 32. 373. 116.  67. 117.  65. 168.  12.]]\n",
      "       Mouse Condition\n",
      "0  Control_1   Control\n",
      "1  Control_2   Control\n",
      "2  Control_3   Control\n",
      "3  Control_4   Control\n",
      "8     Salm_1      Salm\n",
      "9     Salm_2      Salm\n"
     ],
     "output_type": "stream"
    }
   ],
   "source": [
    "# Convert data to anndata object\n",
    "\n",
    "# Filter out control and salmonella data\n",
    "salm_indices = [0, 1, 2, 3, 8, 9]\n",
    "salm_df = cell_counts.iloc[salm_indices, :]\n",
    "\n",
    "# Convert to a CompositionalData object\n",
    "data_salm = dat.from_pandas(salm_df, covariate_columns=[\"Mouse\"])\n",
    "\n",
    "# Extract condition from mouse name and add it as an extra column to the covariates\n",
    "data_salm.obs[\"Condition\"] = data_salm.obs[\"Mouse\"].str.replace(r\"_[0-9]\", \"\")\n",
    "print(data_salm.X)\n",
    "print(data_salm.obs)"
   ]
  },
  {
   "cell_type": "markdown",
   "source": [
    "Plotting the data, we can see that there is a large increase of Enterocytes in the infected sampes, while most other cell types slightly decrease.\n",
    "Since scRNA-seq experiments are limited in the number of cells per sample, the count data is compositional, which leads to negative correlations between the cell types.\n",
    "Thus, the slight decreases in many cell types might be fully caused by the increase in Enterocytes."
   ],
   "metadata": {
    "collapsed": false,
    "pycharm": {
     "name": "#%% md\n"
    }
   }
  },
  {
   "cell_type": "code",
   "execution_count": 4,
   "outputs": [
    {
     "data": {
      "text/plain": "<Figure size 864x360 with 1 Axes>",
      "image/png": "[encoded data removed]"
     },
     "metadata": {
      "needs_background": "light"
     },
     "output_type": "display_data"
    }
   ],
   "source": [
    "fig, ax = plt.subplots(figsize=(12,5))\n",
    "df = pd.melt(salm_df, id_vars=['Mouse'], value_vars=salm_df.columns[1:])\n",
    "sns.set_context('notebook')\n",
    "sns.set_style('ticks')\n",
    "d = sns.barplot(x='variable', y = 'value', hue=df[\"Mouse\"].str.replace(r\"_[0-9]\", \"\"), data=df)\n",
    "d.set_ylabel('Cell Count')\n",
    "loc, labels = plt.xticks()\n",
    "d.set_xticklabels(labels, rotation=90)\n",
    "d.set_xlabel('Cell type')\n",
    "plt.show()"
   ],
   "metadata": {
    "collapsed": false,
    "pycharm": {
     "name": "#%%\n",
     "is_executing": false
    }
   }
  },
  {
   "cell_type": "markdown",
   "source": [
    "*Note that the use of* anndata *in* SCDCdm *is different from the use in scRNA-seq pipelines, e.g.* scanpy. \n",
    "*To convert* scanpy *objects to a SCDCdm dataset, have a look at `dat.from_scanpy_list`.*"
   ],
   "metadata": {
    "collapsed": false,
    "pycharm": {
     "name": "#%% md\n"
    }
   }
  },
  {
   "cell_type": "markdown",
   "metadata": {},
   "source": [
    "### Model setup and inference\n",
    "\n",
    "We can now create the model and run inference on it. The `mod.CompositionalAnalysis` class takes our data object and performs parameter inference on it.\n",
    "\n",
    "The `formula` parameter specifies how the covariates are used in the model. It can process R-style formulas via the [patsy](https://patsy.readthedocs.io/en/latest/) package, e.g. `formula=\"Cov1 + Cov2 + Cov3\"`.\n",
    "\n",
    "The `baseline_index` parameter is used to specify a cell type that is left unchanged by the covariates.\n",
    "This feature is optional, a baseline index of `None` specifies the model without baseline specification.\n",
    "For now, we will use no baseline index."
   ]
  },
  {
   "cell_type": "code",
   "execution_count": 5,
   "metadata": {
    "pycharm": {
     "is_executing": false
    }
   },
   "outputs": [],
   "source": [
    "model_salm = mod.CompositionalAnalysis(data_salm, formula=\"Condition\", baseline_index=None)"
   ]
  },
  {
   "cell_type": "markdown",
   "source": [
    "HMC sampling can be performed by calling `sample_hmc()` on the model, which produces a `scdcdm.util.result_classes.CAResult` object."
   ],
   "metadata": {
    "collapsed": false,
    "pycharm": {
     "name": "#%% md\n"
    }
   }
  },
  {
   "cell_type": "code",
   "execution_count": 6,
   "metadata": {
    "pycharm": {
     "is_executing": false
    }
   },
   "outputs": [
    {
     "name": "stdout",
     "text": [
      "MCMC sampling finished. (121.185 sec)\n",
      "Acceptance rate: 54.2%\n"
     ],
     "output_type": "stream"
    }
   ],
   "source": [
    "# Run MCMC\n",
    "sim_results = model_salm.sample_hmc()"
   ]
  },
  {
   "cell_type": "markdown",
   "source": [
    "### Result interpretation\n",
    "\n",
    "Calling `summary()` on the results object, we can see all relevant information for further analysis:"
   ],
   "metadata": {
    "collapsed": false,
    "pycharm": {
     "name": "#%% md\n"
    }
   }
  },
  {
   "cell_type": "code",
   "execution_count": 7,
   "outputs": [
    {
     "name": "stdout",
     "text": [
      "Compositional Analysis summary:\n",
      "\n",
      "Data: 6 samples, 8 cell types\n",
      "Baseline index: None\n",
      "Formula: Condition\n",
      "\n",
      "Intercepts:\n",
      "                       Final Parameter  Expected Sample\n",
      "Cell Type                                              \n",
      "Endocrine                        1.093        34.283562\n",
      "Enterocyte                       2.312       116.008793\n",
      "Enterocyte.Progenitor            2.515       142.119178\n",
      "Goblet                           1.673        61.231759\n",
      "Stem                             2.691       169.468316\n",
      "TA                               2.101        93.940912\n",
      "TA.Early                         2.861       200.871618\n",
      "Tuft                             0.396        17.075864\n",
      "\n",
      "\n",
      "Effects:\n",
      "                                         Final Parameter  Expected Sample  \\\n",
      "Covariate         Cell Type                                                 \n",
      "Condition[T.Salm] Endocrine                     0.000000        23.718630   \n",
      "                  Enterocyte                    1.436528       337.575408   \n",
      "                  Enterocyte.Progenitor         0.000000        98.323280   \n",
      "                  Goblet                        0.000000        42.362385   \n",
      "                  Stem                          0.000000       117.244422   \n",
      "                  TA                            0.000000        64.991782   \n",
      "                  TA.Early                      0.000000       138.970382   \n",
      "                  Tuft                          0.000000        11.813711   \n",
      "\n",
      "                                         log2-fold change  \n",
      "Covariate         Cell Type                                \n",
      "Condition[T.Salm] Endocrine                     -0.531496  \n",
      "                  Enterocyte                     1.540976  \n",
      "                  Enterocyte.Progenitor         -0.531496  \n",
      "                  Goblet                        -0.531496  \n",
      "                  Stem                          -0.531496  \n",
      "                  TA                            -0.531496  \n",
      "                  TA.Early                      -0.531496  \n",
      "                  Tuft                          -0.531496  \n"
     ],
     "output_type": "stream"
    }
   ],
   "source": [
    "sim_results.summary()"
   ],
   "metadata": {
    "collapsed": false,
    "pycharm": {
     "name": "#%%\n",
     "is_executing": false
    }
   }
  },
  {
   "cell_type": "markdown",
   "source": [
    "**Model properties**\n",
    "\n",
    "First, the summary shows an overview over the model properties: \n",
    "* Number of samples/cell types\n",
    "* Index of the baseline cell type, starting at 0.\n",
    "* The formula used\n",
    "\n",
    "The model has two types of parameters that are relevant for analysis - intercepts and effects. \n",
    "These can be interpreted like in a standard regression model:\n",
    "Intercepts show how the cell types are distributed without any active covariates, effects show ho the covariates influence the cell types.\n",
    "\n",
    "**Intercepts**\n",
    "\n",
    "The first column of the intercept summary shows the parameters determined by the MCMC inference.\n",
    "\n",
    "The \"Expected sample\" column gives some context to the numerical values. \n",
    "If we take the mean number of cells over all samples from our dataset, then the model expects a new sample with exaxtly that many cells to look like this.\n",
    "\n",
    "**Effects**\n",
    "\n",
    "For the effect summary, the first column again shows the inferred parameters for all combinations of covariates and cell types.  \n",
    "A value is zero means that no significant effect was detected. \n",
    "For a value other than zero, a significant change was detected. A positive sign indicates an increase, a negative sign a decrease.\n",
    "\n",
    "The \"Expected sample\" and \"log2-fold change\" columns give us an idea on the magnitude of this increase. \n",
    "The expected sample is calculated for each covariate separately (covariate value = 1), with the same method as for the intercepts.\n",
    "The log-fold change is then calculated between this column and the expected intercept sample.\n",
    "Since the data is compositional, cell types for which no significant change was detected, are expected to change as well.\n",
    "\n",
    "**Interpretation**\n",
    "\n",
    "In the salmonella case, we see only a significant increase of Enterocytes, while all other cell types are unaffected by the disease.\n",
    "The log-fold change of Enterocytes between control and infected samples with the same total cell count lies at about 1.54."
   ],
   "metadata": {
    "collapsed": false,
    "pycharm": {
     "name": "#%% md\n"
    }
   }
  },
  {
   "cell_type": "markdown",
   "metadata": {
    "pycharm": {
     "name": "#%% md\n"
    }
   },
   "source": [
    "### Diagnostics and plotting\n",
    "\n",
    "For further analysis, `summary_extended()` gives us more information about the model:"
   ]
  },
  {
   "cell_type": "code",
   "execution_count": 8,
   "outputs": [
    {
     "name": "stdout",
     "text": [
      "Compositional Analysis summary (extended):\n",
      "\n",
      "Data: 6 samples, 8 cell types\n",
      "Baseline index: None\n",
      "Formula: Condition\n",
      "Spike-and-slab threshold: 0.692\n",
      "\n",
      "MCMC Sampling: Sampled 20000 chain states (5000 burnin samples) in 121.185 sec. Acceptance rate: 54.2%\n",
      "\n",
      "Intercepts:\n",
      "                       Final Parameter  HPD 3%  HPD 97%     SD  \\\n",
      "Cell Type                                                        \n",
      "Endocrine                        1.093   0.405    1.819  0.383   \n",
      "Enterocyte                       2.312   1.713    2.898  0.314   \n",
      "Enterocyte.Progenitor            2.515   1.924    3.118  0.322   \n",
      "Goblet                           1.673   0.983    2.292  0.352   \n",
      "Stem                             2.691   2.141    3.302  0.311   \n",
      "TA                               2.101   1.456    2.682  0.330   \n",
      "TA.Early                         2.861   2.279    3.428  0.312   \n",
      "Tuft                             0.396  -0.375    1.185  0.423   \n",
      "\n",
      "                       Expected Sample  \n",
      "Cell Type                               \n",
      "Endocrine                    34.283562  \n",
      "Enterocyte                  116.008793  \n",
      "Enterocyte.Progenitor       142.119178  \n",
      "Goblet                       61.231759  \n",
      "Stem                        169.468316  \n",
      "TA                           93.940912  \n",
      "TA.Early                    200.871618  \n",
      "Tuft                         17.075864  \n",
      "\n",
      "\n",
      "Effects:\n",
      "                                         Final Parameter  HPD 3%  HPD 97%  \\\n",
      "Covariate         Cell Type                                                 \n",
      "Condition[T.Salm] Endocrine                     0.000000  -0.062    1.160   \n",
      "                  Enterocyte                    1.436528   0.977    1.921   \n",
      "                  Enterocyte.Progenitor         0.000000  -0.065    0.629   \n",
      "                  Goblet                        0.000000  -0.012    1.053   \n",
      "                  Stem                          0.000000  -0.392    0.116   \n",
      "                  TA                            0.000000  -0.378    0.252   \n",
      "                  TA.Early                      0.000000  -0.092    0.394   \n",
      "                  Tuft                          0.000000  -0.403    1.113   \n",
      "\n",
      "                                            SD  Inclusion probability  \\\n",
      "Covariate         Cell Type                                             \n",
      "Condition[T.Salm] Endocrine              0.394               0.411267   \n",
      "                  Enterocyte             0.255               1.000000   \n",
      "                  Enterocyte.Progenitor  0.194               0.293000   \n",
      "                  Goblet                 0.355               0.472667   \n",
      "                  Stem                   0.134               0.201267   \n",
      "                  TA                     0.151               0.219600   \n",
      "                  TA.Early               0.139               0.205600   \n",
      "                  Tuft                   0.369               0.342533   \n",
      "\n",
      "                                         Expected Sample  log2-fold change  \n",
      "Covariate         Cell Type                                                 \n",
      "Condition[T.Salm] Endocrine                    23.718630         -0.531496  \n",
      "                  Enterocyte                  337.575408          1.540976  \n",
      "                  Enterocyte.Progenitor        98.323280         -0.531496  \n",
      "                  Goblet                       42.362385         -0.531496  \n",
      "                  Stem                        117.244422         -0.531496  \n",
      "                  TA                           64.991782         -0.531496  \n",
      "                  TA.Early                    138.970382         -0.531496  \n",
      "                  Tuft                         11.813711         -0.531496  \n"
     ],
     "output_type": "stream"
    }
   ],
   "source": [
    "sim_results.summary_extended()"
   ],
   "metadata": {
    "collapsed": false,
    "pycharm": {
     "name": "#%%\n",
     "is_executing": false
    }
   }
  },
  {
   "cell_type": "markdown",
   "source": [
    "The spike-and-slab threshold value dpends on the number of cell types and determines the inclusion probability cutoff for significant effects.\n",
    "Further, the extended summary includes some information on the MCMC sampling procedure (chain length, burn-in, acceptance rate, duration).\n",
    "\n",
    "For both effects and intercepts, we also get the standard deviation and HPD interval endpoints of the elements of the generated Markov chain.\n",
    "The width of the HPD interval can be set by e.g. `summary_extended(credible_interval=0.9)`\n",
    "\n",
    "The effects summary also includes the spike-and-slab inclusion probability for each effect, i.e. the share of MCMC samples, for which this effect was not set to 0 by the spike-and-slab prior.\n",
    "\n",
    "We can also use the summary tables from `summary_extended()` as pandas DataFrames to tweak them further, for example we can show only the cell types with significant effects:"
   ],
   "metadata": {
    "collapsed": false,
    "pycharm": {
     "name": "#%% md\n"
    }
   }
  },
  {
   "cell_type": "code",
   "execution_count": 9,
   "outputs": [
    {
     "name": "stdout",
     "text": [
      "                              Final Parameter  HPD 3%  HPD 97%     SD  \\\n",
      "Covariate         Cell Type                                             \n",
      "Condition[T.Salm] Enterocyte         1.436528   0.977    1.921  0.255   \n",
      "\n",
      "                              Inclusion probability  Expected Sample  \\\n",
      "Covariate         Cell Type                                            \n",
      "Condition[T.Salm] Enterocyte                    1.0       337.575408   \n",
      "\n",
      "                              log2-fold change  \n",
      "Covariate         Cell Type                     \n",
      "Condition[T.Salm] Enterocyte          1.540976  \n"
     ],
     "output_type": "stream"
    }
   ],
   "source": [
    "# Intercept dataframe: sim_result.intercept_df\n",
    "# Effect dataframe: sim_result.effect_df\n",
    "\n",
    "sig_effects = sim_results.effect_df.loc[sim_results.effect_df[\"Final Parameter\"] != 0]\n",
    "print(sig_effects)"
   ],
   "metadata": {
    "collapsed": false,
    "pycharm": {
     "name": "#%%\n",
     "is_executing": false
    }
   }
  },
  {
   "cell_type": "markdown",
   "source": [
    "Also, the results object supports all plotting and diagnosis functions of [arviz](https://github.com/arviz-devs/arviz).\n"
   ],
   "metadata": {
    "collapsed": false,
    "pycharm": {
     "name": "#%% md\n"
    }
   }
  },
  {
   "cell_type": "code",
   "execution_count": 10,
   "outputs": [
    {
     "data": {
      "text/plain": "<Figure size 1490.4x993.6 with 9 Axes>",
      "image/png": "[encoded data removed]"
     },
     "metadata": {},
     "output_type": "display_data"
    }
   ],
   "source": [
    "# Example: Plot Markov chain density for all effects\n",
    "az.plot_density(sim_results, var_names=\"beta\")\n",
    "plt.show()"
   ],
   "metadata": {
    "collapsed": false,
    "pycharm": {
     "name": "#%%\n",
     "is_executing": false
    }
   }
  },
  {
   "cell_type": "markdown",
   "source": [
    "### Tweaking the model: categorical covariates, Baseline\n",
    "\n",
    "The compositional analysis models from *SCDCdm* are also able to automatically deal with categorical covariates via the [patsy](https://patsy.readthedocs.io/en/latest/) framework for formula specification. \n",
    "Per default, categorical variables are encoded via full-rank treatment coding. Hereby, the value of the first sample in the dataset is used as the reference (control) category.\n",
    "We can change this by tweaking the model formula to be `\"C(<CovariateName>, Treatment('<ReferenceLevelName>'))\"`:"
   ],
   "metadata": {
    "collapsed": false,
    "pycharm": {
     "name": "#%% md\n"
    }
   }
  },
  {
   "cell_type": "code",
   "execution_count": 10,
   "outputs": [
    {
     "name": "stdout",
     "text": [
      "MCMC sampling finished. (135.503 sec)\n",
      "Acceptance rate: 49.1%\n",
      "Compositional Analysis summary:\n",
      "\n",
      "Data: 6 samples, 8 cell types\n",
      "Baseline index: None\n",
      "Formula: C(Condition, Treatment('Salm'))\n",
      "\n",
      "Intercepts:\n",
      "                       Final Parameter  Expected Sample\n",
      "Cell Type                                              \n",
      "Endocrine                        1.305        28.853631\n",
      "Enterocyte                       3.731       326.436632\n",
      "Enterocyte.Progenitor            2.574       102.640834\n",
      "Goblet                           1.886        51.585254\n",
      "Stem                             2.660       111.858631\n",
      "TA                               2.059        61.327959\n",
      "TA.Early                         2.883       139.803218\n",
      "Tuft                             0.468        12.493842\n",
      "\n",
      "\n",
      "Effects:\n",
      "                                                                  Final Parameter  \\\n",
      "Covariate                                  Cell Type                                \n",
      "C(Condition, Treatment('Salm'))[T.Control] Endocrine                     0.000000   \n",
      "                                           Enterocyte                   -1.416635   \n",
      "                                           Enterocyte.Progenitor         0.000000   \n",
      "                                           Goblet                        0.000000   \n",
      "                                           Stem                          0.000000   \n",
      "                                           TA                            0.000000   \n",
      "                                           TA.Early                      0.000000   \n",
      "                                           Tuft                          0.000000   \n",
      "\n",
      "                                                                  Expected Sample  \\\n",
      "Covariate                                  Cell Type                                \n",
      "C(Condition, Treatment('Salm'))[T.Control] Endocrine                    40.992691   \n",
      "                                           Enterocyte                  112.478083   \n",
      "                                           Enterocyte.Progenitor       145.823032   \n",
      "                                           Goblet                       73.287772   \n",
      "                                           Stem                        158.918863   \n",
      "                                           TA                           87.129348   \n",
      "                                           TA.Early                    198.620065   \n",
      "                                           Tuft                         17.750147   \n",
      "\n",
      "                                                                  log2-fold change  \n",
      "Covariate                                  Cell Type                                \n",
      "C(Condition, Treatment('Salm'))[T.Control] Endocrine                      0.506614  \n",
      "                                           Enterocyte                    -1.537159  \n",
      "                                           Enterocyte.Progenitor          0.506614  \n",
      "                                           Goblet                         0.506614  \n",
      "                                           Stem                           0.506614  \n",
      "                                           TA                             0.506614  \n",
      "                                           TA.Early                       0.506614  \n",
      "                                           Tuft                           0.506614  \n"
     ],
     "output_type": "stream"
    }
   ],
   "source": [
    "# Set salmonella infection as reference category\n",
    "\n",
    "model_salm_switch_ref = mod.CompositionalAnalysis(data_salm, formula=\"C(Condition, Treatment('Salm'))\", baseline_index=None)\n",
    "switch_results = model_salm_switch_ref.sample_hmc()\n",
    "switch_results.summary()"
   ],
   "metadata": {
    "collapsed": false,
    "pycharm": {
     "name": "#%%\n",
     "is_executing": false
    }
   }
  },
  {
   "cell_type": "markdown",
   "source": [
    "We can also handle multiple levels of one categorical covariate:"
   ],
   "metadata": {
    "collapsed": false,
    "pycharm": {
     "name": "#%% md\n"
    }
   }
  },
  {
   "cell_type": "code",
   "execution_count": 11,
   "outputs": [
    {
     "name": "stderr",
     "text": [
      "Transforming to str index.\n"
     ],
     "output_type": "stream"
    },
    {
     "name": "stdout",
     "text": [
      "[[ 36.  59. 136.  36. 239. 125. 191.  18.]\n",
      " [  5.  46.  23.  20.  50.  11.  40.   5.]\n",
      " [ 45.  98. 188. 124. 250. 155. 365.  33.]\n",
      " [ 26. 221. 198.  36. 131. 130. 196.   4.]\n",
      " [ 42.  71. 203. 147. 271. 109. 180. 146.]\n",
      " [ 40.  57. 383. 170. 321. 244. 256.  71.]\n",
      " [ 52.  75. 347.  66. 323. 263. 313.  51.]\n",
      " [ 65. 126. 115.  33.  65.  39. 129.  59.]\n",
      " [ 37. 332. 113.  59.  90.  47. 132.  10.]\n",
      " [ 32. 373. 116.  67. 117.  65. 168.  12.]]\n",
      "            Mouse     Condition\n",
      "0       Control_1       Control\n",
      "1       Control_2       Control\n",
      "2       Control_3       Control\n",
      "3       Control_4       Control\n",
      "4  H.poly.Day10_1  H.poly.Day10\n",
      "5  H.poly.Day10_2  H.poly.Day10\n",
      "6   H.poly.Day3_1   H.poly.Day3\n",
      "7   H.poly.Day3_2   H.poly.Day3\n",
      "8          Salm_1          Salm\n",
      "9          Salm_2          Salm\n"
     ],
     "output_type": "stream"
    }
   ],
   "source": [
    "# Get dataset with all three diseases\n",
    "\n",
    "data_all = dat.from_pandas(cell_counts, covariate_columns=[\"Mouse\"])\n",
    "data_all.obs[\"Condition\"] = data_all.obs[\"Mouse\"].str.replace(r\"_[0-9]\", \"\")\n",
    "print(data_all.X)\n",
    "print(data_all.obs)"
   ],
   "metadata": {
    "collapsed": false,
    "pycharm": {
     "name": "#%%\n",
     "is_executing": false
    }
   }
  },
  {
   "cell_type": "code",
   "execution_count": 12,
   "outputs": [
    {
     "name": "stdout",
     "text": [
      "MCMC sampling finished. (116.588 sec)\n",
      "Acceptance rate: 51.3%\n",
      "Compositional Analysis summary:\n",
      "\n",
      "Data: 10 samples, 8 cell types\n",
      "Baseline index: None\n",
      "Formula: Condition\n",
      "\n",
      "Intercepts:\n",
      "                       Final Parameter  Expected Sample\n",
      "Cell Type                                              \n",
      "Endocrine                        0.940        44.394709\n",
      "Enterocyte                       1.970       124.352502\n",
      "Enterocyte.Progenitor            2.339       179.849482\n",
      "Goblet                           1.427        72.249130\n",
      "Stem                             2.431       197.180646\n",
      "TA                               1.881       113.763336\n",
      "TA.Early                         2.555       223.211620\n",
      "Tuft                             0.521        29.198586\n",
      "\n",
      "\n",
      "Effects:\n",
      "                                                 Final Parameter  \\\n",
      "Covariate                 Cell Type                                \n",
      "Condition[T.H.poly.Day10] Endocrine                     0.000000   \n",
      "                          Enterocyte                   -0.705784   \n",
      "                          Enterocyte.Progenitor         0.000000   \n",
      "                          Goblet                        0.000000   \n",
      "                          Stem                          0.000000   \n",
      "                          TA                            0.000000   \n",
      "                          TA.Early                      0.000000   \n",
      "                          Tuft                          0.902785   \n",
      "Condition[T.H.poly.Day3]  Endocrine                     0.000000   \n",
      "                          Enterocyte                    0.000000   \n",
      "                          Enterocyte.Progenitor         0.000000   \n",
      "                          Goblet                        0.000000   \n",
      "                          Stem                          0.000000   \n",
      "                          TA                            0.000000   \n",
      "                          TA.Early                      0.000000   \n",
      "                          Tuft                          0.000000   \n",
      "Condition[T.Salm]         Endocrine                     0.000000   \n",
      "                          Enterocyte                    1.484487   \n",
      "                          Enterocyte.Progenitor         0.000000   \n",
      "                          Goblet                        0.000000   \n",
      "                          Stem                          0.000000   \n",
      "                          TA                            0.000000   \n",
      "                          TA.Early                      0.000000   \n",
      "                          Tuft                          0.000000   \n",
      "\n",
      "                                                 Expected Sample  \\\n",
      "Covariate                 Cell Type                                \n",
      "Condition[T.H.poly.Day10] Endocrine                    45.322072   \n",
      "                          Enterocyte                   62.677999   \n",
      "                          Enterocyte.Progenitor       183.606368   \n",
      "                          Goblet                       73.758346   \n",
      "                          Stem                        201.299562   \n",
      "                          TA                          116.139744   \n",
      "                          TA.Early                    227.874300   \n",
      "                          Tuft                         73.521621   \n",
      "Condition[T.H.poly.Day3]  Endocrine                    44.394709   \n",
      "                          Enterocyte                  124.352502   \n",
      "                          Enterocyte.Progenitor       179.849482   \n",
      "                          Goblet                       72.249130   \n",
      "                          Stem                        197.180646   \n",
      "                          TA                          113.763336   \n",
      "                          TA.Early                    223.211620   \n",
      "                          Tuft                         29.198586   \n",
      "Condition[T.Salm]         Endocrine                    31.019422   \n",
      "                          Enterocyte                  383.408299   \n",
      "                          Enterocyte.Progenitor       125.664234   \n",
      "                          Goblet                       50.481834   \n",
      "                          Stem                        137.773845   \n",
      "                          TA                           79.488594   \n",
      "                          TA.Early                    155.962180   \n",
      "                          Tuft                         20.401604   \n",
      "\n",
      "                                                 log2-fold change  \n",
      "Covariate                 Cell Type                                \n",
      "Condition[T.H.poly.Day10] Endocrine                      0.029826  \n",
      "                          Enterocyte                    -0.988405  \n",
      "                          Enterocyte.Progenitor          0.029826  \n",
      "                          Goblet                         0.029826  \n",
      "                          Stem                           0.029826  \n",
      "                          TA                             0.029826  \n",
      "                          TA.Early                       0.029826  \n",
      "                          Tuft                           1.332270  \n",
      "Condition[T.H.poly.Day3]  Endocrine                      0.000000  \n",
      "                          Enterocyte                     0.000000  \n",
      "                          Enterocyte.Progenitor          0.000000  \n",
      "                          Goblet                         0.000000  \n",
      "                          Stem                           0.000000  \n",
      "                          TA                             0.000000  \n",
      "                          TA.Early                       0.000000  \n",
      "                          Tuft                           0.000000  \n",
      "Condition[T.Salm]         Endocrine                     -0.517216  \n",
      "                          Enterocyte                     1.624446  \n",
      "                          Enterocyte.Progenitor         -0.517216  \n",
      "                          Goblet                        -0.517216  \n",
      "                          Stem                          -0.517216  \n",
      "                          TA                            -0.517216  \n",
      "                          TA.Early                      -0.517216  \n",
      "                          Tuft                          -0.517216  \n"
     ],
     "output_type": "stream"
    }
   ],
   "source": [
    "# model all three diseases at once\n",
    "model_all = mod.CompositionalAnalysis(data_all, formula=\"Condition\", baseline_index=None)\n",
    "switch_results = model_all.sample_hmc()\n",
    "switch_results.summary()"
   ],
   "metadata": {
    "collapsed": false,
    "pycharm": {
     "name": "#%%\n",
     "is_executing": false
    }
   }
  },
  {
   "cell_type": "markdown",
   "source": [
    "*SCDCdm* also allows us to set a baseline cell type whose effect is always 0. \n",
    "If such a cell type exists, it is recommended to set it as the baseline to avoid interpretion issues.\n",
    "\n",
    "The baseline can easily be specified in the model setup:"
   ],
   "metadata": {
    "collapsed": false,
    "pycharm": {
     "name": "#%% md\n"
    }
   }
  },
  {
   "cell_type": "code",
   "execution_count": 13,
   "outputs": [
    {
     "name": "stdout",
     "text": [
      "MCMC sampling finished. (151.526 sec)\n",
      "Acceptance rate: 48.1%\n",
      "Compositional Analysis summary:\n",
      "\n",
      "Data: 6 samples, 8 cell types\n",
      "Baseline index: 0\n",
      "Formula: Condition\n",
      "\n",
      "Intercepts:\n",
      "                       Final Parameter  Expected Sample\n",
      "Cell Type                                              \n",
      "Endocrine                        1.197        37.161808\n",
      "Enterocyte                       2.331       115.501276\n",
      "Enterocyte.Progenitor            2.536       141.780711\n",
      "Goblet                           1.682        60.357280\n",
      "Stem                             2.715       169.572671\n",
      "TA                               2.120        93.529938\n",
      "TA.Early                         2.880       199.992842\n",
      "Tuft                             0.421        17.103474\n",
      "\n",
      "\n",
      "Effects:\n",
      "                                         Final Parameter  Expected Sample  \\\n",
      "Covariate         Cell Type                                                 \n",
      "Condition[T.Salm] Endocrine                     0.000000        25.875335   \n",
      "                  Enterocyte                    1.423915       334.021412   \n",
      "                  Enterocyte.Progenitor         0.000000        98.720259   \n",
      "                  Goblet                        0.000000        42.026072   \n",
      "                  Stem                          0.000000       118.071478   \n",
      "                  TA                            0.000000        65.123807   \n",
      "                  TA.Early                      0.000000       139.252688   \n",
      "                  Tuft                          0.000000        11.908950   \n",
      "\n",
      "                                         log2-fold change  \n",
      "Covariate         Cell Type                                \n",
      "Condition[T.Salm] Endocrine                     -0.522243  \n",
      "                  Enterocyte                     1.532032  \n",
      "                  Enterocyte.Progenitor         -0.522243  \n",
      "                  Goblet                        -0.522243  \n",
      "                  Stem                          -0.522243  \n",
      "                  TA                            -0.522243  \n",
      "                  TA.Early                      -0.522243  \n",
      "                  Tuft                          -0.522243  \n"
     ],
     "output_type": "stream"
    }
   ],
   "source": [
    "# model salmonella infection with baseline set to Endocrine cells\n",
    "model_baseline = mod.CompositionalAnalysis(data_salm, formula=\"Condition\", baseline_index=\"Endocrine\")\n",
    "baseline_results = model_baseline.sample_hmc()\n",
    "baseline_results.summary()"
   ],
   "metadata": {
    "collapsed": false,
    "pycharm": {
     "name": "#%%\n",
     "is_executing": false
    }
   }
  }
 ],
 "metadata": {
  "kernelspec": {
   "name": "pycharm-6bf36ab6",
   "language": "python",
   "display_name": "PyCharm (SCDCdm_public)"
  },
  "language_info": {
   "codemirror_mode": {
    "name": "ipython",
    "version": 3
   },
   "file_extension": ".py",
   "mimetype": "text/x-python",
   "name": "python",
   "nbconvert_exporter": "python",
   "pygments_lexer": "ipython3",
   "version": "3.7.6"
  },
  "pycharm": {
   "stem_cell": {
    "cell_type": "raw",
    "source": [],
    "metadata": {
     "collapsed": false
    }
   }
  }
 },
 "nbformat": 4,
 "nbformat_minor": 1
}